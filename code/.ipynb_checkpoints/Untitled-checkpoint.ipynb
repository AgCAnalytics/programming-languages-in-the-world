{
 "cells": [
  {
   "cell_type": "code",
   "execution_count": 2,
   "id": "4fe7a00c",
   "metadata": {},
   "outputs": [],
   "source": [
    "import pandas as pd\n",
    "import numpy as np\n",
    "import re"
   ]
  },
  {
   "cell_type": "code",
   "execution_count": 3,
   "id": "e414b0a2",
   "metadata": {},
   "outputs": [],
   "source": [
    "class Data:\n",
    "    \n",
    "    def __init__(self, anno, lenguage = 'Python'):\n",
    "        self.url_data = f'../csv/developer_survey_{anno}/survey_results_public.csv'\n",
    "        self.url_schema = f'../csv/developer_survey_{anno}/survey_results_schema.csv'\n",
    "        self.data_frame = pd.read_csv(self.url_data, index_col = 'Respondent')\n",
    "        self.data_frame.rename(columns={'ConvertedComp':'SalaryUSD'}, inplace = True)\n",
    "        self.schema_frame = pd.read_csv(self.url_schema, index_col='Column')\n",
    "        self.data_frame.rename(columns={'ConvertedComp':'SalaryUSD'}, inplace = True)"
   ]
  },
  {
   "cell_type": "code",
   "execution_count": 4,
   "id": "88988b00",
   "metadata": {},
   "outputs": [],
   "source": [
    "data_2019 = Data(2019)"
   ]
  },
  {
   "cell_type": "code",
   "execution_count": null,
   "id": "9f50b1ff",
   "metadata": {},
   "outputs": [],
   "source": [
    "data"
   ]
  }
 ],
 "metadata": {
  "kernelspec": {
   "display_name": "Python 3",
   "language": "python",
   "name": "python3"
  },
  "language_info": {
   "codemirror_mode": {
    "name": "ipython",
    "version": 3
   },
   "file_extension": ".py",
   "mimetype": "text/x-python",
   "name": "python",
   "nbconvert_exporter": "python",
   "pygments_lexer": "ipython3",
   "version": "3.9.5"
  }
 },
 "nbformat": 4,
 "nbformat_minor": 5
}
