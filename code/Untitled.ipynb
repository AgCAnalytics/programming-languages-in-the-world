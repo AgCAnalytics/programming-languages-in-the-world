{
 "cells": [
  {
   "cell_type": "code",
   "execution_count": 13,
   "id": "4fe7a00c",
   "metadata": {},
   "outputs": [],
   "source": [
    "import pandas as pd\n",
    "import numpy as np\n",
    "import re"
   ]
  },
  {
   "cell_type": "code",
   "execution_count": 14,
   "id": "e414b0a2",
   "metadata": {},
   "outputs": [],
   "source": [
    "class Data:\n",
    "    \n",
    "    def __init__(self, anno, lenguage = 'Python'):\n",
    "        self.url_data = f'../csv/developer_survey_{anno}/survey_results_public.csv'\n",
    "        self.url_schema = f'../csv/developer_survey_{anno}/survey_results_schema.csv'\n",
    "        self.data_frame = pd.read_csv(self.url_data, index_col = 'Respondent')\n",
    "        self.data_frame.rename(columns={'ConvertedComp':'SalaryUSD'}, inplace = True)\n",
    "        self.schema_frame = pd.read_csv(self.url_schema, index_col='Column')\n",
    "        self.data_frame.rename(columns={'ConvertedComp':'SalaryUSD'}, inplace = True)"
   ]
  },
  {
   "cell_type": "code",
   "execution_count": 15,
   "id": "6b4bff2e",
   "metadata": {},
   "outputs": [],
   "source": [
    "class Data_Ages(Data):\n",
    "    patron = '(Not employed).{1}|(Retired).{1}'\n",
    "    bins = [18, 25, 30, 35, 100]\n",
    "    \n",
    "    def __init__(self, anno, lenguage = 'Python'):\n",
    "        Data.__init__(self, anno, lenguage = 'Python')\n",
    "        self.data_frame['RangoEtario'] = pd.cut(self.data_frame['Age'], self.bins, right = False)\n",
    "        self.patron_not_employed_regex = re.compile(self.patron)\n",
    "        self.not_employed_match = self.data_frame['Employment'].apply(lambda x: x if x is np.NaN else self.patron_not_employed_regex.findall(x))\n",
    "        self.mask_not_employed = self.not_employed_match.apply(lambda x: False if x is np.NaN  else True if x != [] else False)\n",
    "        self.mask_employed = self.not_employed_match.apply(lambda x: True if x == [] else False)\n",
    "        self.data_not_employed = self.data_frame.loc[self.mask_not_employed, :]\n",
    "        self.data_employed = self.data_frame.loc[self.mask_employed, :]\n",
    "    \n",
    "    def filtro(self):\n",
    "        self.data_frame['YearsCode'].rename({'Less than 1 year':0, 'More than 50 years':51}, inplace = True)\n",
    "        self.data_frame['Ages1stCode'].rename({'Younger tha 5 years': np.NaN, 'Older tha 85': np.NaN}, inplace = True)\n",
    "        self.data_annos = self.data_frame['Age'].astype(float) - self.data_frame['YearsCode'].astype(float)"
   ]
  },
  {
   "cell_type": "code",
   "execution_count": 16,
   "id": "11c853ce",
   "metadata": {},
   "outputs": [],
   "source": [
    "data_2019 = Data(2019)"
   ]
  },
  {
   "cell_type": "code",
   "execution_count": 18,
   "id": "cd871764",
   "metadata": {},
   "outputs": [],
   "source": [
    "data_Ages_201 = Data_Ages(2019)"
   ]
  },
  {
   "cell_type": "code",
   "execution_count": null,
   "id": "8778f972",
   "metadata": {},
   "outputs": [],
   "source": []
  }
 ],
 "metadata": {
  "kernelspec": {
   "display_name": "Python 3",
   "language": "python",
   "name": "python3"
  },
  "language_info": {
   "codemirror_mode": {
    "name": "ipython",
    "version": 3
   },
   "file_extension": ".py",
   "mimetype": "text/x-python",
   "name": "python",
   "nbconvert_exporter": "python",
   "pygments_lexer": "ipython3",
   "version": "3.9.5"
  }
 },
 "nbformat": 4,
 "nbformat_minor": 5
}
